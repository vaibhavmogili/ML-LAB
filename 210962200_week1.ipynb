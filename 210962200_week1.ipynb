{
 "cells": [
  {
   "cell_type": "code",
   "execution_count": 1,
   "id": "3d0c0d15-ed9d-4045-a186-f8b09b3a6302",
   "metadata": {},
   "outputs": [
    {
     "data": {
      "text/plain": [
       "True"
      ]
     },
     "execution_count": 1,
     "metadata": {},
     "output_type": "execute_result"
    }
   ],
   "source": [
    "import torch\n",
    "torch.cuda.is_available()\n"
   ]
  },
  {
   "cell_type": "code",
   "execution_count": 2,
   "id": "36cabd56-640d-4e41-9c86-5977cae8f379",
   "metadata": {},
   "outputs": [
    {
     "name": "stdout",
     "output_type": "stream",
     "text": [
      "shape of tensor : torch.Size([2, 3])\n",
      "rank of a tensor : 2\n",
      "total number of elements : 6\n",
      "tensor([[1., 2.],\n",
      "        [3., 4.],\n",
      "        [5., 6.]])\n",
      "tensor([1., 2., 3., 4., 5., 6.])\n",
      "torch.Size([2, 3]) torch.Size([6])\n",
      "tensor([[1.],\n",
      "        [2.],\n",
      "        [3.],\n",
      "        [4.],\n",
      "        [5.],\n",
      "        [6.]])\n",
      "torch.Size([6]) torch.Size([1, 6]) torch.Size([6, 1])\n",
      "tensor([[1, 2, 3, 4],\n",
      "        [5, 6, 7, 8]])\n",
      "tensor([[1., 2.],\n",
      "        [3., 4.],\n",
      "        [5., 6.]])\n",
      "tensor([[1., 2., 3.],\n",
      "        [4., 5., 6.]])\n"
     ]
    }
   ],
   "source": [
    "#q1\n",
    "import torch\n",
    "tensor = torch.Tensor([[1,2,3],[4,5,6]])\n",
    "print(\"shape of tensor :\",tensor.shape)\n",
    "print(\"rank of a tensor :\",len(tensor.shape))\n",
    "print(\"total number of elements :\",tensor.numel())\n",
    "reshape_tensor = torch.reshape(tensor,(3,2))\n",
    "print(reshape_tensor)\n",
    "#squeezing\n",
    "sq_tensor = tensor.reshape([1,6]).squeeze()\n",
    "print(sq_tensor)\n",
    "print(tensor.shape,sq_tensor.shape)\n",
    "#it will print as it is if there is no one\n",
    "# sec_sq_tensor = sq_tensor.squeeze()\n",
    "# print(sec_sq_tensor)\n",
    "#unsqueeze\n",
    "un_sq_tensor = sq_tensor.unsqueeze(dim = 0)\n",
    "un_sq_tensor1 = sq_tensor.unsqueeze(dim = 1)\n",
    "print(un_sq_tensor1)\n",
    "print(sq_tensor.shape,un_sq_tensor.shape, un_sq_tensor1.shape)\n",
    "#stack\n",
    "x = torch.tensor([1,2,3,4])\n",
    "y = torch.tensor([5,6,7,8])\n",
    "stack_tensor = torch.stack((x,y),dim = 0)\n",
    "print(stack_tensor)\n",
    "\n",
    "print(tensor.view((3,2)))\n",
    "print(tensor)"
   ]
  },
  {
   "cell_type": "code",
   "execution_count": 3,
   "id": "a347d2f6-0990-4e2f-a0ae-7b7f34cba6e5",
   "metadata": {},
   "outputs": [
    {
     "name": "stdout",
     "output_type": "stream",
     "text": [
      "torch.Size([2, 3]) torch.Size([3, 2])\n"
     ]
    }
   ],
   "source": [
    "#q2\n",
    "#based on the index the dimension will be changed\n",
    "permute_tensor = torch.permute(tensor,(1,0))\n",
    "print(tensor.shape,permute_tensor.shape)"
   ]
  },
  {
   "cell_type": "code",
   "execution_count": 4,
   "id": "523b29cc-3699-4f31-9c64-1d263c2633c6",
   "metadata": {},
   "outputs": [
    {
     "name": "stdout",
     "output_type": "stream",
     "text": [
      "tensor([[1., 2.],\n",
      "        [4., 5.]])\n"
     ]
    }
   ],
   "source": [
    "#q3\n",
    "indices = torch.tensor([0,1])\n",
    "index_tensor = torch.index_select(tensor,1,indices)\n",
    "print(index_tensor)"
   ]
  },
  {
   "cell_type": "code",
   "execution_count": 5,
   "id": "1fa2b216-d70c-462e-9d5a-76f4caefcedd",
   "metadata": {},
   "outputs": [
    {
     "name": "stdout",
     "output_type": "stream",
     "text": [
      "tensor([[1, 2, 3],\n",
      "        [4, 5, 6]]) [[1 2 3]\n",
      " [4 5 6]]\n",
      "[[1 2 3]\n",
      " [4 5 6]]\n"
     ]
    }
   ],
   "source": [
    "#q4\n",
    "import numpy as np\n",
    "a = np.array([[1,2,3],[4,5,6]])\n",
    "numpy_tensor = torch.from_numpy(a)\n",
    "print(numpy_tensor,a)\n",
    "numpy_array = numpy_tensor.numpy()\n",
    "print(numpy_array)"
   ]
  },
  {
   "cell_type": "code",
   "execution_count": 6,
   "id": "1e4735bc-6aad-4376-b2e1-2dae0af7632d",
   "metadata": {},
   "outputs": [
    {
     "name": "stdout",
     "output_type": "stream",
     "text": [
      "tensor([[3, 2, 4, 9, 2, 7, 9],\n",
      "        [8, 8, 5, 5, 1, 8, 3],\n",
      "        [2, 5, 7, 8, 2, 2, 5],\n",
      "        [7, 3, 1, 1, 5, 4, 8],\n",
      "        [2, 1, 7, 5, 5, 7, 1],\n",
      "        [2, 2, 3, 4, 7, 2, 4],\n",
      "        [3, 9, 6, 1, 1, 3, 7]])\n"
     ]
    }
   ],
   "source": [
    "#q5\n",
    "random_tensor = torch.randint(1,10,(7,7))\n",
    "print(random_tensor)\n"
   ]
  },
  {
   "cell_type": "code",
   "execution_count": 7,
   "id": "83c6c35a-e21b-419f-9708-78d194696167",
   "metadata": {},
   "outputs": [
    {
     "name": "stdout",
     "output_type": "stream",
     "text": [
      "tensor([[162],\n",
      "        [166],\n",
      "        [114],\n",
      "        [146],\n",
      "        [100],\n",
      "        [ 94],\n",
      "        [118]])\n"
     ]
    }
   ],
   "source": [
    "#q6\n",
    "sec_tensor = torch.randint(1,10,(1,7))\n",
    "#matmultiplication..\n",
    "print(torch.matmul(random_tensor,sec_tensor.T))"
   ]
  },
  {
   "cell_type": "code",
   "execution_count": 8,
   "id": "59525add-1903-4a75-ac5c-cb4d89481a1d",
   "metadata": {},
   "outputs": [
    {
     "name": "stdout",
     "output_type": "stream",
     "text": [
      "tensor([[1., 2., 3.],\n",
      "        [4., 5., 6.]]) cpu\n",
      "tensor([[1., 2., 3.],\n",
      "        [4., 5., 6.]], device='cuda:0')\n"
     ]
    }
   ],
   "source": [
    "#q7\n",
    "tensor2 = torch.randint(1,6,(2,3))\n",
    "print(tensor, tensor.device)\n",
    "device = \"cuda\" if torch.cuda.is_available() else \"cpu\"\n",
    "tensor_on_gpu = tensor.to(device)\n",
    "print(tensor_on_gpu)"
   ]
  },
  {
   "cell_type": "code",
   "execution_count": 9,
   "id": "e0948ca5-f852-42d9-8dd6-74c14850185c",
   "metadata": {},
   "outputs": [
    {
     "name": "stdout",
     "output_type": "stream",
     "text": [
      "tensor([[162],\n",
      "        [166],\n",
      "        [114],\n",
      "        [146],\n",
      "        [100],\n",
      "        [ 94],\n",
      "        [118]])\n"
     ]
    }
   ],
   "source": [
    "#q8\n",
    "adjusted_tensor = torch.reshape(sec_tensor,(7,1))\n",
    "mult_tensor = torch.matmul(random_tensor,adjusted_tensor)\n",
    "print(mult_tensor)"
   ]
  },
  {
   "cell_type": "code",
   "execution_count": 10,
   "id": "abc536a1-e26d-4f0b-b7c2-fa8a3369c9b7",
   "metadata": {},
   "outputs": [
    {
     "name": "stdout",
     "output_type": "stream",
     "text": [
      "tensor(166)\n",
      "tensor(94)\n"
     ]
    }
   ],
   "source": [
    "#q9\n",
    "print(mult_tensor.max())\n",
    "print(mult_tensor.min())"
   ]
  },
  {
   "cell_type": "code",
   "execution_count": 11,
   "id": "5653f035-e388-4c02-94e0-da0e3cc24421",
   "metadata": {},
   "outputs": [
    {
     "name": "stdout",
     "output_type": "stream",
     "text": [
      "tensor(1)\n",
      "tensor(5)\n"
     ]
    }
   ],
   "source": [
    "#q10\n",
    "print(torch.argmax(mult_tensor))\n",
    "print(torch.argmin(mult_tensor))"
   ]
  },
  {
   "cell_type": "code",
   "execution_count": 12,
   "id": "263a0baa-87e0-4338-9ac1-d63b83d02147",
   "metadata": {},
   "outputs": [
    {
     "name": "stdout",
     "output_type": "stream",
     "text": [
      "tensor([[[[ 0.7837, -1.2726, -1.4124, -0.8632, -0.0092, -0.3163,  0.8352,\n",
      "            0.2417, -0.7754,  0.2349]]]]) tensor([ 0.7837, -1.2726, -1.4124, -0.8632, -0.0092, -0.3163,  0.8352,  0.2417,\n",
      "        -0.7754,  0.2349])\n",
      "torch.Size([1, 1, 1, 10]) torch.Size([10])\n"
     ]
    }
   ],
   "source": [
    "#q11\n",
    "t = torch.randn((1,1,1,10))\n",
    "sec_t = t.squeeze()\n",
    "print(t,sec_t)\n",
    "print(t.shape,sec_t.shape)"
   ]
  },
  {
   "cell_type": "code",
   "execution_count": null,
   "id": "71928518-6fd8-4ea9-855f-c318c5fb4e2f",
   "metadata": {},
   "outputs": [],
   "source": []
  }
 ],
 "metadata": {
  "kernelspec": {
   "display_name": "Python 3 (ipykernel)",
   "language": "python",
   "name": "python3"
  },
  "language_info": {
   "codemirror_mode": {
    "name": "ipython",
    "version": 3
   },
   "file_extension": ".py",
   "mimetype": "text/x-python",
   "name": "python",
   "nbconvert_exporter": "python",
   "pygments_lexer": "ipython3",
   "version": "3.11.7"
  }
 },
 "nbformat": 4,
 "nbformat_minor": 5
}
