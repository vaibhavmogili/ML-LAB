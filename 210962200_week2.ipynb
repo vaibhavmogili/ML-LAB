{
 "cells": [
  {
   "cell_type": "code",
   "execution_count": 2,
   "id": "c51f5c34-c0ef-41a8-9646-05da1233fcd0",
   "metadata": {},
   "outputs": [
    {
     "data": {
      "text/plain": [
       "True"
      ]
     },
     "execution_count": 2,
     "metadata": {},
     "output_type": "execute_result"
    }
   ],
   "source": [
    "import torch\n",
    "torch.cuda.is_available()\n"
   ]
  },
  {
   "cell_type": "code",
   "execution_count": 4,
   "id": "ae1517de-f29e-4510-832e-f869274bf843",
   "metadata": {},
   "outputs": [
    {
     "name": "stdout",
     "output_type": "stream",
     "text": [
      "tensor([64.])\n",
      "tensor([114.])\n"
     ]
    }
   ],
   "source": [
    "#q1\n",
    "\n",
    "a=torch.tensor([2.],requires_grad=True)\n",
    "b=torch.tensor([2.],requires_grad=True)\n",
    "x=2*a+3*b\n",
    "y=5*a*a+3*b*b*b\n",
    "z=2*x+3*y\n",
    "\n",
    "z.backward()\n",
    "\n",
    "print(a.grad)\n",
    "print(b.grad)"
   ]
  },
  {
   "cell_type": "code",
   "execution_count": 7,
   "id": "bf667688-3474-4778-8ef8-dcfcebacb129",
   "metadata": {},
   "outputs": [
    {
     "name": "stdout",
     "output_type": "stream",
     "text": [
      "tensor([5.])\n"
     ]
    }
   ],
   "source": [
    "#q2\n",
    "import torch.nn as nn\n",
    "b=torch.tensor([1.],requires_grad=True)\n",
    "x=torch.tensor([5.],requires_grad=True)\n",
    "w=torch.tensor([1.],requires_grad=True)\n",
    "\n",
    "u=w*x\n",
    "v=u+b\n",
    "relu=torch.nn.ReLU()\n",
    "a=relu(v)\n",
    "\n",
    "a.backward()\n",
    "\n",
    "print(w.grad)\n",
    "\n",
    "\n"
   ]
  },
  {
   "cell_type": "code",
   "execution_count": 4,
   "id": "5d020002-25f6-417d-9b6a-baf7a04453bb",
   "metadata": {},
   "outputs": [
    {
     "name": "stdout",
     "output_type": "stream",
     "text": [
      "da/dw:  4.529942543740617e-06\n",
      "analytical: tensor([4.5299e-06], grad_fn=<MulBackward0>)\n"
     ]
    }
   ],
   "source": [
    "#q3\n",
    "\n",
    "import torch\n",
    "\n",
    "x=torch.tensor([2.],requires_grad=True)\n",
    "w=torch.tensor([5.],requires_grad=True)\n",
    "b=torch.tensor([3.],requires_grad=True)\n",
    "\n",
    "u=w*x\n",
    "v=u+b\n",
    "a=torch.sigmoid(v)\n",
    "a.backward()\n",
    "print(\"da/dw: \", w.grad.item())\n",
    "analytically = (a*(1-a))*x\n",
    "print(\"analytical:\",analytically)\n",
    "      \n",
    "\n"
   ]
  },
  {
   "cell_type": "code",
   "execution_count": 5,
   "id": "c0b49696-d55d-448c-a569-fd73a5bb3fb0",
   "metadata": {},
   "outputs": [
    {
     "name": "stdout",
     "output_type": "stream",
     "text": [
      "df/dx: tensor(-0.0008)\n",
      "analytical: tensor(-0.0008, grad_fn=<MulBackward0>)\n"
     ]
    }
   ],
   "source": [
    "#q4\n",
    "x = torch.tensor(2.0, requires_grad=True)\n",
    "a = x*x\n",
    "b = 2*x\n",
    "c = torch.sin(x)\n",
    "d = -(a)-(b)-(c)\n",
    "f = torch.exp(d)\n",
    "f.backward()\n",
    "print(\"df/dx:\",x.grad)\n",
    "diff = f*(-(2*x)-2-torch.cos(x))\n",
    "print(\"analytical:\",diff)"
   ]
  },
  {
   "cell_type": "code",
   "execution_count": 6,
   "id": "2fe05701-34e9-47d2-a27b-22006dbb1280",
   "metadata": {},
   "outputs": [
    {
     "name": "stdout",
     "output_type": "stream",
     "text": [
      "dy/dx: tensor(326.)\n",
      "analytically: tensor(326., grad_fn=<AddBackward0>)\n"
     ]
    }
   ],
   "source": [
    "#q5\n",
    "x = torch.tensor(2.0,requires_grad = True)\n",
    "y = (8*x**4)+(3*x**3)+(7*x**2)+6*x+3\n",
    "y.backward()\n",
    "print(\"dy/dx:\", x.grad)\n",
    "analytical = (32*x**3)+(9*x**2)+14*x+6\n",
    "print(\"analytically:\",analytical)"
   ]
  },
  {
   "cell_type": "code",
   "execution_count": null,
   "id": "4e5ccb7b-2465-4155-9165-22612fa0c69c",
   "metadata": {},
   "outputs": [],
   "source": []
  }
 ],
 "metadata": {
  "kernelspec": {
   "display_name": "Python 3 (ipykernel)",
   "language": "python",
   "name": "python3"
  },
  "language_info": {
   "codemirror_mode": {
    "name": "ipython",
    "version": 3
   },
   "file_extension": ".py",
   "mimetype": "text/x-python",
   "name": "python",
   "nbconvert_exporter": "python",
   "pygments_lexer": "ipython3",
   "version": "3.11.7"
  }
 },
 "nbformat": 4,
 "nbformat_minor": 5
}
